{
 "metadata": {
  "language_info": {
   "codemirror_mode": {
    "name": "ipython",
    "version": 3
   },
   "file_extension": ".py",
   "mimetype": "text/x-python",
   "name": "python",
   "nbconvert_exporter": "python",
   "pygments_lexer": "ipython3",
   "version": "3.7.6"
  },
  "orig_nbformat": 2,
  "kernelspec": {
   "name": "python376jvsc74a57bd08eb2f6e763956fc64419c0b949adefb352abce8a0e6f77456a2c7d154e940ff0",
   "display_name": "Python 3.7.6 64-bit ('base': conda)"
  },
  "metadata": {
   "interpreter": {
    "hash": "8eb2f6e763956fc64419c0b949adefb352abce8a0e6f77456a2c7d154e940ff0"
   }
  }
 },
 "nbformat": 4,
 "nbformat_minor": 2,
 "cells": [
  {
   "cell_type": "code",
   "execution_count": 1,
   "metadata": {},
   "outputs": [],
   "source": [
    "import cv2\n",
    "import os\n",
    "import numpy as np\n",
    "import os.path as osp\n",
    "import matplotlib.pyplot as plt\n",
    "import torch\n",
    "import torch.nn as nn\n",
    "from torch.nn import Module\n",
    "import torch.nn.functional as F\n",
    "from torch.nn.modules.padding import ReplicationPad2d\n",
    "from glob import glob\n",
    "# from tensorboardX import SummaryWriter\n",
    "from torch.utils.tensorboard import SummaryWriter\n",
    "import re\n",
    "import mylib.polSAR_utils as psr\n",
    "from mylib import types\n",
    "import torchvision\n",
    "import yaml\n",
    "from mylib import types\n",
    "from typing import Optional\n",
    "import random\n",
    "from torch import Tensor\n",
    "from random import shuffle\n",
    "from scipy import special"
   ]
  },
  {
   "cell_type": "code",
   "execution_count": 2,
   "metadata": {},
   "outputs": [],
   "source": [
    "path = r'/home/csl/code/PolSAR_N2N/data/SAR_CD/GF3/data/E115_N39_中国河北/降轨/1/20161209/C3/3'\n",
    "C3 = psr.read_c3(path, out='save_space')\n",
    "hoek = psr.Hokeman_decomposition(C3)\n",
    "C3_new = psr.inverse_Hokeman_decomposition(hoek)\n",
    "err = ((C3-C3_new)**2)\n"
   ]
  },
  {
   "cell_type": "code",
   "execution_count": 3,
   "metadata": {},
   "outputs": [
    {
     "output_type": "execute_result",
     "data": {
      "text/plain": [
       "(675197650000000.0, 0.0, 3542880300.0)"
      ]
     },
     "metadata": {},
     "execution_count": 3
    }
   ],
   "source": [
    "err.max(), err.min(), err.mean()"
   ]
  },
  {
   "cell_type": "code",
   "execution_count": null,
   "metadata": {},
   "outputs": [],
   "source": [
    "c3.shape, c3.dtype"
   ]
  },
  {
   "cell_type": "code",
   "execution_count": null,
   "metadata": {},
   "outputs": [],
   "source": [
    "path = r'/home/csl/code/PolSAR_N2N/data/BSR/BSDS500/data/images'\n",
    "imgs = glob(osp.join(path, '*/*.jpg'))\n",
    "len(imgs)"
   ]
  },
  {
   "cell_type": "code",
   "execution_count": null,
   "metadata": {},
   "outputs": [],
   "source": [
    "for img in imgs:\n",
    "    im = cv2.imread(img)\n",
    "    print(im.shape[:2])"
   ]
  },
  {
   "cell_type": "code",
   "execution_count": null,
   "metadata": {},
   "outputs": [],
   "source": [
    "special.digamma(1)"
   ]
  },
  {
   "cell_type": "code",
   "execution_count": null,
   "metadata": {},
   "outputs": [],
   "source": [
    "a = [1,2]\n",
    "b = [i+3 for i in a]\n",
    "a, b"
   ]
  },
  {
   "cell_type": "code",
   "execution_count": null,
   "metadata": {},
   "outputs": [],
   "source": [
    "f = aug.RandomRotation(360)\n",
    "im = cv2.imread(r'/home/csl/code/PolSAR_N2N/data/GF3/data/E115_N39_中国河北/降轨/1/20161209/C3/0/PauliRGB.bmp')\n",
    "plt.imshow(im)"
   ]
  },
  {
   "cell_type": "code",
   "execution_count": null,
   "metadata": {},
   "outputs": [],
   "source": [
    "img = f(im.transpose(2, 0, 1))\n",
    "img = img.numpy()\n",
    "img = img.transpose(1, 2, 0)\n",
    "plt.imshow(img)"
   ]
  },
  {
   "cell_type": "code",
   "execution_count": null,
   "metadata": {},
   "outputs": [],
   "source": [
    "a = torch.arange(8).reshape(2, 2, 2)\n",
    "# f = Boxcar_smooth(3)\n",
    "f = aug.RandomHorizontalFlip(0.5)\n",
    "b = f(a)\n",
    "print(f'a:\\n{a}\\nb:\\n{b}')"
   ]
  },
  {
   "cell_type": "code",
   "execution_count": null,
   "metadata": {},
   "outputs": [],
   "source": [
    "a = list(range(10))\n",
    "# a.pop([1, 3, 5])\n",
    "a"
   ]
  },
  {
   "cell_type": "code",
   "execution_count": null,
   "metadata": {},
   "outputs": [],
   "source": [
    "random.sample(range(10), 5)"
   ]
  },
  {
   "cell_type": "code",
   "execution_count": null,
   "metadata": {},
   "outputs": [],
   "source": [
    "path = r'data/GF3/data'\n",
    "# path = r'/data/csl/PolSAR_building_det/data/GF3'\n",
    "all_files = []\n",
    "for root, dirs, files in os.walk(path):\n",
    "    if root.endswith('Hoekman'):\n",
    "        for dir in dirs:\n",
    "            all_files.append(osp.join(root, dir))\n"
   ]
  },
  {
   "cell_type": "code",
   "execution_count": null,
   "metadata": {},
   "outputs": [],
   "source": [
    "all_files"
   ]
  },
  {
   "cell_type": "code",
   "execution_count": null,
   "metadata": {},
   "outputs": [],
   "source": [
    "len(all_files)*0.01\n"
   ]
  },
  {
   "cell_type": "code",
   "execution_count": null,
   "metadata": {},
   "outputs": [],
   "source": [
    "c = a()\n",
    "c._a__b\n",
    "setattr(c, '_a__b', 5)\n",
    "c._a__b"
   ]
  },
  {
   "cell_type": "code",
   "execution_count": null,
   "metadata": {},
   "outputs": [],
   "source": [
    "a = torch.tensor([1+2j, 3+4j]).view(1,1,1,1,2)\n",
    "a, a.abs()"
   ]
  },
  {
   "cell_type": "code",
   "execution_count": null,
   "metadata": {},
   "outputs": [],
   "source": [
    "np.angle(np.array([100,1, 1+1j, 10000j, -1, -1-1j, -1j, 3-3j]).reshape(1,1,1,1,1,2,-1))"
   ]
  },
  {
   "cell_type": "code",
   "execution_count": null,
   "metadata": {},
   "outputs": [],
   "source": [
    "\n",
    "class ComplexUpsample(Module):\n",
    "    def __init__(self, size = None, scale_factor = None,\n",
    "                 mode: str = 'nearest', align_corners: Optional[bool] = None) -> None:\n",
    "        super().__init__()\n",
    "        self.up = nn.Upsample(size=size, scale_factor=scale_factor, mode=mode, align_corners=align_corners)\n",
    "        \n",
    "    def forward(self, input: Tensor) -> Tensor:\n",
    "        if 'complex' not in str(input.dtype):\n",
    "            raise ValueError('not support non-complex data')\n",
    "        real = self.up(input.real)\n",
    "        imag = self.up(input.imag)\n",
    "        return real + 1j*imag"
   ]
  },
  {
   "cell_type": "code",
   "execution_count": null,
   "metadata": {},
   "outputs": [],
   "source": [
    "a = torch.tensor([[1,2],[3,4]])+1j*torch.tensor([[8,6],[7,5]]).view(1,1,2,2)\n",
    "b = ComplexUpsample(scale_factor=2, mode='bilinear')\n",
    "a,b(a)"
   ]
  },
  {
   "cell_type": "code",
   "execution_count": null,
   "metadata": {},
   "outputs": [],
   "source": [
    "str(a.dtype)"
   ]
  }
 ]
}