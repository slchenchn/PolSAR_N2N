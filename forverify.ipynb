{
 "metadata": {
  "language_info": {
   "codemirror_mode": {
    "name": "ipython",
    "version": 3
   },
   "file_extension": ".py",
   "mimetype": "text/x-python",
   "name": "python",
   "nbconvert_exporter": "python",
   "pygments_lexer": "ipython3",
   "version": "3.7.6"
  },
  "orig_nbformat": 2,
  "kernelspec": {
   "name": "python376jvsc74a57bd08eb2f6e763956fc64419c0b949adefb352abce8a0e6f77456a2c7d154e940ff0",
   "display_name": "Python 3.7.6 64-bit ('base': conda)"
  },
  "metadata": {
   "interpreter": {
    "hash": "8eb2f6e763956fc64419c0b949adefb352abce8a0e6f77456a2c7d154e940ff0"
   }
  }
 },
 "nbformat": 4,
 "nbformat_minor": 2,
 "cells": [
  {
   "cell_type": "code",
   "execution_count": 3,
   "metadata": {},
   "outputs": [],
   "source": [
    "import cv2\n",
    "import os\n",
    "import numpy as np\n",
    "import os.path as osp\n",
    "import matplotlib.pyplot as plt\n",
    "import torch\n",
    "import torch.nn as nn\n",
    "from torch.nn import Module\n",
    "import torch.nn.functional as F\n",
    "from torch.nn.modules.padding import ReplicationPad2d\n",
    "import glob\n",
    "# from tensorboardX import SummaryWriter\n",
    "from torch.utils.tensorboard import SummaryWriter\n",
    "import re\n",
    "import mylib.polSAR_utils as psr\n",
    "from mylib import types\n",
    "import torchvision\n",
    "import yaml\n",
    "from mylib import types\n",
    "from typing import Optional\n",
    "import random\n",
    "from torch import Tensor\n",
    "from random import shuffle"
   ]
  },
  {
   "cell_type": "code",
   "execution_count": 19,
   "metadata": {},
   "outputs": [
    {
     "output_type": "execute_result",
     "data": {
      "text/plain": [
       "[1, 2]"
      ]
     },
     "metadata": {},
     "execution_count": 19
    }
   ],
   "source": [
    "a = [1,2]\n",
    "shuffle(a)\n",
    "a"
   ]
  },
  {
   "cell_type": "code",
   "execution_count": 40,
   "metadata": {},
   "outputs": [
    {
     "output_type": "execute_result",
     "data": {
      "text/plain": [
       "[0, 1, 2, 3, 4, 5, 6, 7, 8, 9]"
      ]
     },
     "metadata": {},
     "execution_count": 40
    }
   ],
   "source": [
    "a = list(range(10))\n",
    "# a.pop([1, 3, 5])\n",
    "a"
   ]
  },
  {
   "cell_type": "code",
   "execution_count": 33,
   "metadata": {},
   "outputs": [
    {
     "output_type": "execute_result",
     "data": {
      "text/plain": [
       "[9, 2, 0, 5, 6]"
      ]
     },
     "metadata": {},
     "execution_count": 33
    }
   ],
   "source": [
    "random.sample(range(10), 5)"
   ]
  },
  {
   "cell_type": "code",
   "execution_count": 23,
   "metadata": {},
   "outputs": [],
   "source": [
    "path = r'data/GF3/data'\n",
    "# path = r'/data/csl/PolSAR_building_det/data/GF3'\n",
    "all_files = []\n",
    "for root, dirs, files in os.walk(path):\n",
    "    if root.endswith('Hoekman'):\n",
    "        for dir in dirs:\n",
    "            all_files.append(osp.join(root, dir))\n"
   ]
  },
  {
   "cell_type": "code",
   "execution_count": 28,
   "metadata": {},
   "outputs": [
    {
     "output_type": "execute_result",
     "data": {
      "text/plain": [
       "624/Hoekman/19',\n",
       " 'data/GF3/data/E132_N34_日本安芸/升轨/1/20170624/Hoekman/100',\n",
       " 'data/GF3/data/E132_N34_日本安芸/升轨/1/20170624/Hoekman/112',\n",
       " 'data/GF3/data/E132_N34_日本安芸/升轨/1/20170624/Hoekman/29',\n",
       " 'data/GF3/data/E132_N34_日本安芸/升轨/1/20170624/Hoekman/12',\n",
       " 'data/GF3/data/E132_N34_日本安芸/升轨/1/20170624/Hoekman/72',\n",
       " 'data/GF3/data/E132_N34_日本安芸/升轨/1/20170624/Hoekman/45',\n",
       " 'data/GF3/data/E132_N34_日本安芸/升轨/1/20170624/Hoekman/95',\n",
       " 'data/GF3/data/E132_N34_日本安芸/升轨/1/20170624/Hoekman/3',\n",
       " 'data/GF3/data/E132_N34_日本安芸/升轨/1/20170624/Hoekman/97',\n",
       " 'data/GF3/data/E132_N34_日本安芸/升轨/1/20170624/Hoekman/13',\n",
       " 'data/GF3/data/E132_N34_日本安芸/升轨/1/20170624/Hoekman/40',\n",
       " 'data/GF3/data/E132_N34_日本安芸/升轨/1/20170624/Hoekman/83',\n",
       " 'data/GF3/data/E132_N34_日本安芸/升轨/1/20170624/Hoekman/88',\n",
       " 'data/GF3/data/E132_N34_日本安芸/升轨/1/20170624/Hoekman/101',\n",
       " 'data/GF3/data/E132_N34_日本安芸/升轨/1/20170624/Hoekman/32',\n",
       " 'data/GF3/data/E132_N34_日本安芸/升轨/1/20170624/Hoekman/132',\n",
       " 'data/GF3/data/E132_N34_日本安芸/升轨/1/20170624/Hoekman/69',\n",
       " 'data/GF3/data/E132_N34_日本安芸/升轨/1/20170624/Hoekman/31',\n",
       " 'data/GF3/data/E132_N34_日本安芸/升轨/1/20170624/Hoekman/85',\n",
       " 'data/GF3/data/E132_N34_日本安芸/升轨/1/20170624/Hoekman/43',\n",
       " 'data/GF3/data/E132_N34_日本安芸/升轨/1/20170624/Hoekman/74',\n",
       " 'data/GF3/data/E132_N34_日本安芸/升轨/1/20170624/Hoekman/75',\n",
       " 'data/GF3/data/E132_N34_日本安芸/升轨/1/20170624/Hoekman/76',\n",
       " 'data/GF3/data/E132_N34_日本安芸/升轨/1/20170624/Hoekman/59',\n",
       " 'data/GF3/data/E132_N34_日本安芸/升轨/1/20170624/Hoekman/38',\n",
       " 'data/GF3/data/E132_N34_日本安芸/升轨/1/20170624/Hoekman/98',\n",
       " 'data/GF3/data/E132_N34_日本安芸/升轨/1/20170624/Hoekman/62',\n",
       " 'data/GF3/data/E132_N34_日本安芸/升轨/1/20170624/Hoekman/120',\n",
       " 'data/GF3/data/E132_N34_日本安芸/升轨/1/20170624/Hoekman/128',\n",
       " 'data/GF3/data/E132_N34_日本安芸/升轨/1/20170624/Hoekman/106',\n",
       " 'data/GF3/data/E132_N34_日本安芸/升轨/1/20170624/Hoekman/1',\n",
       " 'data/GF3/data/E132_N34_日本安芸/升轨/1/20170624/Hoekman/4',\n",
       " 'data/GF3/data/E132_N34_日本安芸/升轨/1/20170624/Hoekman/42',\n",
       " 'data/GF3/data/E132_N34_日本安芸/升轨/1/20170624/Hoekman/94',\n",
       " 'data/GF3/data/E132_N34_日本安芸/升轨/1/20170624/Hoekman/60',\n",
       " 'data/GF3/data/E132_N34_日本安芸/升轨/1/20170624/Hoekman/22',\n",
       " 'data/GF3/data/E132_N34_日本安芸/升轨/1/20170624/Hoekman/27',\n",
       " 'data/GF3/data/E132_N34_日本安芸/升轨/1/20170624/Hoekman/122',\n",
       " 'data/GF3/data/E132_N34_日本安芸/升轨/1/20170624/Hoekman/15',\n",
       " 'data/GF3/data/E132_N34_日本安芸/升轨/1/20170624/Hoekman/24',\n",
       " 'data/GF3/data/E132_N34_日本安芸/升轨/1/20170624/Hoekman/28',\n",
       " 'data/GF3/data/E132_N34_日本安芸/升轨/1/20170624/Hoekman/51',\n",
       " 'data/GF3/data/E132_N34_日本安芸/升轨/1/20170624/Hoekman/113',\n",
       " 'data/GF3/data/E132_N34_日本安芸/升轨/1/20170624/Hoekman/9',\n",
       " 'data/GF3/data/E132_N34_日本安芸/升轨/1/20170624/Hoekman/7',\n",
       " 'data/GF3/data/E132_N34_日本安芸/升轨/1/20170624/Hoekman/57',\n",
       " 'data/GF3/data/E132_N34_日本安芸/升轨/1/20170624/Hoekman/49',\n",
       " 'data/GF3/data/E132_N34_日本安芸/升轨/1/20170624/Hoekman/30',\n",
       " 'data/GF3/data/E132_N34_日本安芸/升轨/1/20170624/Hoekman/44',\n",
       " 'data/GF3/data/E132_N34_日本安芸/升轨/1/20170624/Hoekman/90',\n",
       " 'data/GF3/data/E132_N34_日本安芸/升轨/1/20170624/Hoekman/131',\n",
       " 'data/GF3/data/E132_N34_日本安芸/升轨/1/20170624/Hoekman/129',\n",
       " 'data/GF3/data/E132_N34_日本安芸/升轨/1/20170624/Hoekman/6',\n",
       " 'data/GF3/data/E132_N34_日本安芸/升轨/1/20170624/Hoekman/87',\n",
       " 'data/GF3/data/E132_N34_日本安芸/升轨/1/20170624/Hoekman/50',\n",
       " 'data/GF3/data/E132_N34_日本安芸/升轨/1/20170624/Hoekman/54',\n",
       " 'data/GF3/data/E132_N34_日本安芸/降轨/2/20191018/Hoekman/55',\n",
       " 'data/GF3/data/E132_N34_日本安芸/降轨/2/20191018/Hoekman/23',\n",
       " 'data/GF3/data/E132_N34_日本安芸/降轨/2/20191018/Hoekman/14',\n",
       " 'data/GF3/data/E132_N34_日本安芸/降轨/2/20191018/Hoekman/17',\n",
       " 'data/GF3/data/E132_N34_日本安芸/降轨/2/20191018/Hoekman/82',\n",
       " 'data/GF3/data/E132_N34_日本安芸/降轨/2/20191018/Hoekman/70',\n",
       " 'data/GF3/data/E132_N34_日本安芸/降轨/2/20191018/Hoekman/56',\n",
       " 'data/GF3/data/E132_N34_日本安芸/降轨/2/20191018/Hoekman/68',\n",
       " 'data/GF3/data/E132_N34_日本安芸/降轨/2/20191018/Hoekman/47',\n",
       " 'data/GF3/data/E132_N34_日本安芸/降轨/2/20191018/Hoekman/81',\n",
       " 'data/GF3/data/E132_N34_日本安芸/降轨/2/20191018/Hoekman/39',\n",
       " 'data/GF3/data/E132_N34_日本安芸/降轨/2/20191018/Hoekman/46',\n",
       " 'data/GF3/data/E132_N34_日本安芸/降轨/2/20191018/Hoekman/77',\n",
       " 'data/GF3/data/E132_N34_日本安芸/降轨/2/20191018/Hoekman/79',\n",
       " 'data/GF3/data/E132_N34_日本安芸/降轨/2/20191018/Hoekman/0',\n",
       " 'data/GF3/data/E132_N34_日本安芸/降轨/2/20191018/Hoekman/36',\n",
       " 'data/GF3/data/E132_N34_日本安芸/降轨/2/20191018/Hoekman/52',\n",
       " 'data/GF3/data/E132_N34_日本安芸/降轨/2/20191018/Hoekman/48',\n",
       " 'data/GF3/data/E132_N34_日本安芸/降轨/2/20191018/Hoekman/10',\n",
       " 'data/GF3/data/E132_N34_日本安芸/降轨/2/20191018/Hoekman/11',\n",
       " 'data/GF3/data/E132_N34_日本安芸/降轨/2/20191018/Hoekman/53',\n",
       " 'data/GF3/data/E132_N34_日本安芸/降轨/2/20191018/Hoekman/20',\n",
       " 'data/GF3/data/E132_N34_日本安芸/降轨/2/20191018/Hoekman/58',\n",
       " 'data/GF3/data/E132_N34_日本安芸/降轨/2/20191018/Hoekman/8',\n",
       " 'data/GF3/data/E132_N34_日本安芸/降轨/2/20191018/Hoekman/64',\n",
       " 'data/GF3/data/E132_N34_日本安芸/降轨/2/20191018/Hoekman/61',\n",
       " 'data/GF3/data/E132_N34_日本安芸/降轨/2/20191018/Hoekman/21',\n",
       " 'data/GF3/data/E132_N34_日本安芸/降轨/2/20191018/Hoekman/16',\n",
       " 'data/GF3/data/E132_N34_日本安芸/降轨/2/20191018/Hoekman/2',\n",
       " 'data/GF3/data/E132_N34_日本安芸/降轨/2/20191018/Hoekman/66',\n",
       " 'data/GF3/data/E132_N34_日本安芸/降轨/2/20191018/Hoekman/65',\n",
       " 'data/GF3/data/E132_N34_日本安芸/降轨/2/20191018/Hoekman/34',\n",
       " 'data/GF3/data/E132_N34_日本安芸/降轨/2/20191018/Hoekman/25',\n",
       " 'data/GF3/data/E132_N34_日本安芸/降轨/2/20191018/Hoekman/73',\n",
       " 'data/GF3/data/E132_N34_日本安芸/降轨/2/20191018/Hoekman/5',\n",
       " 'data/GF3/data/E132_N34_日本安芸/降轨/2/20191018/Hoekman/37',\n",
       " 'data/GF3/data/E132_N34_日本安芸/降轨/2/20191018/Hoekman/63',\n",
       " 'data/GF3/data/E132_N34_日本安芸/降轨/2/20191018/Hoekman/41',\n",
       " 'data/GF3/data/E132_N34_日本安芸/降轨/2/20191018/Hoekman/33',\n",
       " 'data/GF3/data/E132_N34_日本安芸/降轨/2/20191018/Hoekman/18',\n",
       " 'data/GF3/data/E132_N34_日本安芸/降轨/2/20191018/Hoekman/71',\n",
       " 'data/GF3/data/E132_N34_日本安芸/降轨/2/20191018/Hoekman/26',\n",
       " 'data/GF3/data/E132_N34_日本安芸/降轨/2/20191018/Hoekman/67',\n",
       " 'data/GF3/data/E132_N34_日本安芸/降轨/2/20191018/Hoekman/78',\n",
       " 'data/GF3/data/E132_N34_日本安芸/降轨/2/20191018/Hoekman/35',\n",
       " 'data/GF3/data/E132_N34_日本安芸/降轨/2/20191018/Hoekman/80',\n",
       " 'data/GF3/data/E132_N34_日本安芸/降轨/2/20191018/Hoekman/19',\n",
       " 'data/GF3/data/E132_N34_日本安芸/降轨/2/20191018/Hoekman/29',\n",
       " 'data/GF3/data/E132_N34_日本安芸/降轨/2/20191018/Hoekman/12',\n",
       " 'data/GF3/data/E132_N34_日本安芸/降轨/2/20191018/Hoekman/72',\n",
       " 'data/GF3/data/E132_N34_日本安芸/降轨/2/20191018/Hoekman/45',\n",
       " 'data/GF3/data/E132_N34_日本安芸/降轨/2/20191018/Hoekman/3',\n",
       " 'data/GF3/data/E132_N34_日本安芸/降轨/2/20191018/Hoekman/13',\n",
       " 'data/GF3/data/E132_N34_日本安芸/降轨/2/20191018/Hoekman/40',\n",
       " 'data/GF3/data/E132_N34_日本安芸/降轨/2/20191018/Hoekman/83',\n",
       " 'data/GF3/data/E132_N34_日本安芸/降轨/2/20191018/Hoekman/32',\n",
       " 'data/GF3/data/E132_N34_日本安芸/降轨/2/20191018/Hoekman/69',\n",
       " 'data/GF3/data/E132_N34_日本安芸/降轨/2/20191018/Hoekman/31',\n",
       " 'data/GF3/data/E132_N34_日本安芸/降轨/2/20191018/Hoekman/43',\n",
       " 'data/GF3/data/E132_N34_日本安芸/降轨/2/20191018/Hoekman/74',\n",
       " 'data/GF3/data/E132_N34_日本安芸/降轨/2/20191018/Hoekman/75',\n",
       " 'data/GF3/data/E132_N34_日本安芸/降轨/2/20191018/Hoekman/76',\n",
       " 'data/GF3/data/E132_N34_日本安芸/降轨/2/20191018/Hoekman/59',\n",
       " 'data/GF3/data/E132_N34_日本安芸/降轨/2/20191018/Hoekman/38',\n",
       " 'data/GF3/data/E132_N34_日本安芸/降轨/2/20191018/Hoekman/62',\n",
       " 'data/GF3/data/E132_N34_日本安芸/降轨/2/20191018/Hoekman/1',\n",
       " 'data/GF3/data/E132_N34_日本安芸/降轨/2/20191018/Hoekman/4',\n",
       " 'data/GF3/data/E132_N34_日本安芸/降轨/2/20191018/Hoekman/42',\n",
       " 'data/GF3/data/E132_N34_日本安芸/降轨/2/20191018/Hoekman/60',\n",
       " 'data/GF3/data/E132_N34_日本安芸/降轨/2/20191018/Hoekman/22',\n",
       " 'data/GF3/data/E132_N34_日本安芸/降轨/2/20191018/Hoekman/27',\n",
       " 'data/GF3/data/E132_N34_日本安芸/降轨/2/20191018/Hoekman/15',\n",
       " 'data/GF3/data/E132_N34_日本安芸/降轨/2/20191018/Hoekman/24',\n",
       " 'data/GF3/data/E132_N34_日本安芸/降轨/2/20191018/Hoekman/28',\n",
       " 'data/GF3/data/E132_N34_日本安芸/降轨/2/20191018/Hoekman/51',\n",
       " 'data/GF3/data/E132_N34_日本安芸/降轨/2/20191018/Hoekman/9',\n",
       " 'data/GF3/data/E132_N34_日本安芸/降轨/2/20191018/Hoekman/7',\n",
       " 'data/GF3/data/E132_N34_日本安芸/降轨/2/20191018/Hoekman/57',\n",
       " 'data/GF3/data/E132_N34_日本安芸/降轨/2/20191018/Hoekman/49',\n",
       " 'data/GF3/data/E132_N34_日本安芸/降轨/2/20191018/Hoekman/30',\n",
       " 'data/GF3/data/E132_N34_日本安芸/降轨/2/20191018/Hoekman/44',\n",
       " 'data/GF3/data/E132_N34_日本安芸/降轨/2/20191018/Hoekman/6',\n",
       " 'data/GF3/data/E132_N34_日本安芸/降轨/2/20191018/Hoekman/50',\n",
       " 'data/GF3/data/E132_N34_日本安芸/降轨/2/20191018/Hoekman/54',\n",
       " 'data/GF3/data/E132_N34_日本安芸/降轨/2/20170531/Hoekman/55',\n",
       " 'data/GF3/data/E132_N34_日本安芸/降轨/2/20170531/Hoekman/23',\n",
       " 'data/GF3/data/E132_N34_日本安芸/降轨/2/20170531/Hoekman/14',\n",
       " 'data/GF3/data/E132_N34_日本安芸/降轨/2/20170531/Hoekman/17',\n",
       " 'data/GF3/data/E132_N34_日本安芸/降轨/2/20170531/Hoekman/82',\n",
       " 'data/GF3/data/E132_N34_日本安芸/降轨/2/20170531/Hoekman/70',\n",
       " 'data/GF3/data/E132_N34_日本安芸/降轨/2/20170531/Hoekman/56',\n",
       " 'data/GF3/data/E132_N34_日本安芸/降轨/2/20170531/Hoekman/68',\n",
       " 'data/GF3/data/E132_N34_日本安芸/降轨/2/20170531/Hoekman/47',\n",
       " 'data/GF3/data/E132_N34_日本安芸/降轨/2/20170531/Hoekman/81',\n",
       " 'data/GF3/data/E132_N34_日本安芸/降轨/2/20170531/Hoekman/39',\n",
       " 'data/GF3/data/E132_N34_日本安芸/降轨/2/20170531/Hoekman/46',\n",
       " 'data/GF3/data/E132_N34_日本安芸/降轨/2/20170531/Hoekman/77',\n",
       " 'data/GF3/data/E132_N34_日本安芸/降轨/2/20170531/Hoekman/79',\n",
       " 'data/GF3/data/E132_N34_日本安芸/降轨/2/20170531/Hoekman/0',\n",
       " 'data/GF3/data/E132_N34_日本安芸/降轨/2/20170531/Hoekman/36',\n",
       " 'data/GF3/data/E132_N34_日本安芸/降轨/2/20170531/Hoekman/52',\n",
       " 'data/GF3/data/E132_N34_日本安芸/降轨/2/20170531/Hoekman/48',\n",
       " 'data/GF3/data/E132_N34_日本安芸/降轨/2/20170531/Hoekman/10',\n",
       " 'data/GF3/data/E132_N34_日本安芸/降轨/2/20170531/Hoekman/11',\n",
       " 'data/GF3/data/E132_N34_日本安芸/降轨/2/20170531/Hoekman/53',\n",
       " 'data/GF3/data/E132_N34_日本安芸/降轨/2/20170531/Hoekman/20',\n",
       " 'data/GF3/data/E132_N34_日本安芸/降轨/2/20170531/Hoekman/58',\n",
       " 'data/GF3/data/E132_N34_日本安芸/降轨/2/20170531/Hoekman/8',\n",
       " 'data/GF3/data/E132_N34_日本安芸/降轨/2/20170531/Hoekman/64',\n",
       " 'data/GF3/data/E132_N34_日本安芸/降轨/2/20170531/Hoekman/61',\n",
       " 'data/GF3/data/E132_N34_日本安芸/降轨/2/20170531/Hoekman/21',\n",
       " 'data/GF3/data/E132_N34_日本安芸/降轨/2/20170531/Hoekman/16',\n",
       " 'data/GF3/data/E132_N34_日本安芸/降轨/2/20170531/Hoekman/2',\n",
       " 'data/GF3/data/E132_N34_日本安芸/降轨/2/20170531/Hoekman/66',\n",
       " 'data/GF3/data/E132_N34_日本安芸/降轨/2/20170531/Hoekman/65',\n",
       " 'data/GF3/data/E132_N34_日本安芸/降轨/2/20170531/Hoekman/34',\n",
       " 'data/GF3/data/E132_N34_日本安芸/降轨/2/20170531/Hoekman/25',\n",
       " 'data/GF3/data/E132_N34_日本安芸/降轨/2/20170531/Hoekman/73',\n",
       " 'data/GF3/data/E132_N34_日本安芸/降轨/2/20170531/Hoekman/5',\n",
       " 'data/GF3/data/E132_N34_日本安芸/降轨/2/20170531/Hoekman/37',\n",
       " 'data/GF3/data/E132_N34_日本安芸/降轨/2/20170531/Hoekman/63',\n",
       " 'data/GF3/data/E132_N34_日本安芸/降轨/2/20170531/Hoekman/41',\n",
       " 'data/GF3/data/E132_N34_日本安芸/降轨/2/20170531/Hoekman/33',\n",
       " 'data/GF3/data/E132_N34_日本安芸/降轨/2/20170531/Hoekman/18',\n",
       " 'data/GF3/data/E132_N34_日本安芸/降轨/2/20170531/Hoekman/71',\n",
       " 'data/GF3/data/E132_N34_日本安芸/降轨/2/20170531/Hoekman/26',\n",
       " 'data/GF3/data/E132_N34_日本安芸/降轨/2/20170531/Hoekman/67',\n",
       " 'data/GF3/data/E132_N34_日本安芸/降轨/2/20170531/Hoekman/78',\n",
       " 'data/GF3/data/E132_N34_日本安芸/降轨/2/20170531/Hoekman/35',\n",
       " 'data/GF3/data/E132_N34_日本安芸/降轨/2/20170531/Hoekman/80',\n",
       " 'data/GF3/data/E132_N34_日本安芸/降轨/2/20170531/Hoekman/19',\n",
       " 'data/GF3/data/E132_N34_日本安芸/降轨/2/20170531/Hoekman/29',\n",
       " 'data/GF3/data/E132_N34_日本安芸/降轨/2/20170531/Hoekman/12',\n",
       " 'data/GF3/data/E132_N34_日本安芸/降轨/2/20170531/Hoekman/72',\n",
       " 'data/GF3/data/E132_N34_日本安芸/降轨/2/20170531/Hoekman/45',\n",
       " 'data/GF3/data/E132_N34_日本安芸/降轨/2/20170531/Hoekman/3',\n",
       " 'data/GF3/data/E132_N34_日本安芸/降轨/2/20170531/Hoekman/13',\n",
       " 'data/GF3/data/E132_N34_日本安芸/降轨/2/20170531/Hoekman/40',\n",
       " 'data/GF3/data/E132_N34_日本安芸/降轨/2/20170531/Hoekman/83',\n",
       " 'data/GF3/data/E132_N34_日本安芸/降轨/2/20170531/Hoekman/32',\n",
       " 'data/GF3/data/E132_N34_日本安芸/降轨/2/20170531/Hoekman/69',\n",
       " 'data/GF3/data/E132_N34_日本安芸/降轨/2/20170531/Hoekman/31',\n",
       " 'data/GF3/data/E132_N34_日本安芸/降轨/2/20170531/Hoekman/43',\n",
       " 'data/GF3/data/E132_N34_日本安芸/降轨/2/20170531/Hoekman/74',\n",
       " 'data/GF3/data/E132_N34_日本安芸/降轨/2/20170531/Hoekman/75',\n",
       " 'data/GF3/data/E132_N34_日本安芸/降轨/2/20170531/Hoekman/76',\n",
       " 'data/GF3/data/E132_N34_日本安芸/降轨/2/20170531/Hoekman/59',\n",
       " 'data/GF3/data/E132_N34_日本安芸/降轨/2/20170531/Hoekman/38',\n",
       " 'data/GF3/data/E132_N34_日本安芸/降轨/2/20170531/Hoekman/62',\n",
       " 'data/GF3/data/E132_N34_日本安芸/降轨/2/20170531/Hoekman/1',\n",
       " 'data/GF3/data/E132_N34_日本安芸/降轨/2/20170531/Hoekman/4',\n",
       " 'data/GF3/data/E132_N34_日本安芸/降轨/2/20170531/Hoekman/42',\n",
       " 'data/GF3/data/E132_N34_日本安芸/降轨/2/20170531/Hoekman/60',\n",
       " 'data/GF3/data/E132_N34_日本安芸/降轨/2/20170531/Hoekman/22',\n",
       " 'data/GF3/data/E132_N34_日本安芸/降轨/2/20170531/Hoekman/27',\n",
       " 'data/GF3/data/E132_N34_日本安芸/降轨/2/20170531/Hoekman/15',\n",
       " 'data/GF3/data/E132_N34_日本安芸/降轨/2/20170531/Hoekman/24',\n",
       " 'data/GF3/data/E132_N34_日本安芸/降轨/2/20170531/Hoekman/28',\n",
       " 'data/GF3/data/E132_N34_日本安芸/降轨/2/20170531/Hoekman/51',\n",
       " 'data/GF3/data/E132_N34_日本安芸/降轨/2/20170531/Hoekman/9',\n",
       " 'data/GF3/data/E132_N34_日本安芸/降轨/2/20170531/Hoekman/7',\n",
       " 'data/GF3/data/E132_N34_日本安芸/降轨/2/20170531/Hoekman/57',\n",
       " 'data/GF3/data/E132_N34_日本安芸/降轨/2/20170531/Hoekman/49',\n",
       " 'data/GF3/data/E132_N34_日本安芸/降轨/2/20170531/Hoekman/30',\n",
       " 'data/GF3/data/E132_N34_日本安芸/降轨/2/20170531/Hoekman/44',\n",
       " 'data/GF3/data/E132_N34_日本安芸/降轨/2/20170531/Hoekman/6',\n",
       " 'data/GF3/data/E132_N34_日本安芸/降轨/2/20170531/Hoekman/50',\n",
       " 'data/GF3/data/E132_N34_日本安芸/降轨/2/20170531/Hoekman/54',\n",
       " 'data/GF3/data/E132_N34_日本安芸/降轨/2/20170826/Hoekman/55',\n",
       " 'data/GF3/data/E132_N34_日本安芸/降轨/2/20170826/Hoekman/23',\n",
       " 'data/GF3/data/E132_N34_日本安芸/降轨/2/20170826/Hoekman/14',\n",
       " 'data/GF3/data/E132_N34_日本安芸/降轨/2/20170826/Hoekman/17',\n",
       " 'data/GF3/data/E132_N34_日本安芸/降轨/2/20170826/Hoekman/82',\n",
       " 'data/GF3/data/E132_N34_日本安芸/降轨/2/20170826/Hoekman/70',\n",
       " 'data/GF3/data/E132_N34_日本安芸/降轨/2/20170826/Hoekman/56',\n",
       " 'data/GF3/data/E132_N34_日本安芸/降轨/2/20170826/Hoekman/68',\n",
       " 'data/GF3/data/E132_N34_日本安芸/降轨/2/20170826/Hoekman/47',\n",
       " 'data/GF3/data/E132_N34_日本安芸/降轨/2/20170826/Hoekman/81',\n",
       " 'data/GF3/data/E132_N34_日本安芸/降轨/2/20170826/Hoekman/39',\n",
       " 'data/GF3/data/E132_N34_日本安芸/降轨/2/20170826/Hoekman/46',\n",
       " 'data/GF3/data/E132_N34_日本安芸/降轨/2/20170826/Hoekman/77',\n",
       " 'data/GF3/data/E132_N34_日本安芸/降轨/2/20170826/Hoekman/79',\n",
       " 'data/GF3/data/E132_N34_日本安芸/降轨/2/20170826/Hoekman/0',\n",
       " 'data/GF3/data/E132_N34_日本安芸/降轨/2/20170826/Hoekman/36',\n",
       " 'data/GF3/data/E132_N34_日本安芸/降轨/2/20170826/Hoekman/52',\n",
       " 'data/GF3/data/E132_N34_日本安芸/降轨/2/20170826/Hoekman/48',\n",
       " 'data/GF3/data/E132_N34_日本安芸/降轨/2/20170826/Hoekman/10',\n",
       " 'data/GF3/data/E132_N34_日本安芸/降轨/2/20170826/Hoekman/11',\n",
       " 'data/GF3/data/E132_N34_日本安芸/降轨/2/20170826/Hoekman/53',\n",
       " 'data/GF3/data/E132_N34_日本安芸/降轨/2/20170826/Hoekman/20',\n",
       " 'data/GF3/data/E132_N34_日本安芸/降轨/2/20170826/Hoekman/58',\n",
       " 'data/GF3/data/E132_N34_日本安芸/降轨/2/20170826/Hoekman/8',\n",
       " 'data/GF3/data/E132_N34_日本安芸/降轨/2/20170826/Hoekman/64',\n",
       " 'data/GF3/data/E132_N34_日本安芸/降轨/2/20170826/Hoekman/61',\n",
       " 'data/GF3/data/E132_N34_日本安芸/降轨/2/20170826/Hoekman/21',\n",
       " 'data/GF3/data/E132_N34_日本安芸/降轨/2/20170826/Hoekman/16',\n",
       " 'data/GF3/data/E132_N34_日本安芸/降轨/2/20170826/Hoekman/2',\n",
       " 'data/GF3/data/E132_N34_日本安芸/降轨/2/20170826/Hoekman/66',\n",
       " 'data/GF3/data/E132_N34_日本安芸/降轨/2/20170826/Hoekman/65',\n",
       " 'data/GF3/data/E132_N34_日本安芸/降轨/2/20170826/Hoekman/34',\n",
       " 'data/GF3/data/E132_N34_日本安芸/降轨/2/20170826/Hoekman/25',\n",
       " 'data/GF3/data/E132_N34_日本安芸/降轨/2/20170826/Hoekman/73',\n",
       " 'data/GF3/data/E132_N34_日本安芸/降轨/2/20170826/Hoekman/5',\n",
       " 'data/GF3/data/E132_N34_日本安芸/降轨/2/20170826/Hoekman/37',\n",
       " 'data/GF3/data/E132_N34_日本安芸/降轨/2/20170826/Hoekman/63',\n",
       " 'data/GF3/data/E132_N34_日本安芸/降轨/2/20170826/Hoekman/41',\n",
       " 'data/GF3/data/E132_N34_日本安芸/降轨/2/20170826/Hoekman/33',\n",
       " 'data/GF3/data/E132_N34_日本安芸/降轨/2/20170826/Hoekman/18',\n",
       " 'data/GF3/data/E132_N34_日本安芸/降轨/2/20170826/Hoekman/71',\n",
       " 'data/GF3/data/E132_N34_日本安芸/降轨/2/20170826/Hoekman/26',\n",
       " 'data/GF3/data/E132_N34_日本安芸/降轨/2/20170826/Hoekman/67',\n",
       " 'data/GF3/data/E132_N34_日本安芸/降轨/2/20170826/Hoekman/78',\n",
       " 'data/GF3/data/E132_N34_日本安芸/降轨/2/20170826/Hoekman/35',\n",
       " 'data/GF3/data/E132_N34_日本安芸/降轨/2/20170826/Hoekman/80',\n",
       " 'data/GF3/data/E132_N34_日本安芸/降轨/2/20170826/Hoekman/19',\n",
       " 'data/GF3/data/E132_N34_日本安芸/降轨/2/20170826/Hoekman/29',\n",
       " 'data/GF3/data/E132_N34_日本安芸/降轨/2/20170826/Hoekman/12',\n",
       " 'data/GF3/data/E132_N34_日本安芸/降轨/2/20170826/Hoekman/72',\n",
       " 'data/GF3/data/E132_N34_日本安芸/降轨/2/20170826/Hoekman/45',\n",
       " 'data/GF3/data/E132_N34_日本安芸/降轨/2/20170826/Hoekman/3',\n",
       " 'data/GF3/data/E132_N34_日本安芸/降轨/2/20170826/Hoekman/13',\n",
       " 'data/GF3/data/E132_N34_日本安芸/降轨/2/20170826/Hoekman/40',\n",
       " 'data/GF3/data/E132_N34_日本安芸/降轨/2/20170826/Hoekman/83',\n",
       " 'data/GF3/data/E132_N34_日本安芸/降轨/2/20170826/Hoekman/32',\n",
       " 'data/GF3/data/E132_N34_日本安芸/降轨/2/20170826/Hoekman/69',\n",
       " 'data/GF3/data/E132_N34_日本安芸/降轨/2/20170826/Hoekman/31',\n",
       " 'data/GF3/data/E132_N34_日本安芸/降轨/2/20170826/Hoekman/43',\n",
       " 'data/GF3/data/E132_N34_日本安芸/降轨/2/20170826/Hoekman/74',\n",
       " 'data/GF3/data/E132_N34_日本安芸/降轨/2/20170826/Hoekman/75',\n",
       " 'data/GF3/data/E132_N34_日本安芸/降轨/2/20170826/Hoekman/76',\n",
       " 'data/GF3/data/E132_N34_日本安芸/降轨/2/20170826/Hoekman/59',\n",
       " 'data/GF3/data/E132_N34_日本安芸/降轨/2/20170826/Hoekman/38',\n",
       " 'data/GF3/data/E132_N34_日本安芸/降轨/2/20170826/Hoekman/62',\n",
       " 'data/GF3/data/E132_N34_日本安芸/降轨/2/20170826/Hoekman/1',\n",
       " 'data/GF3/data/E132_N34_日本安芸/降轨/2/20170826/Hoekman/4',\n",
       " 'data/GF3/data/E132_N34_日本安芸/降轨/2/20170826/Hoekman/42',\n",
       " 'data/GF3/data/E132_N34_日本安芸/降轨/2/20170826/Hoekman/60',\n",
       " 'data/GF3/data/E132_N34_日本安芸/降轨/2/20170826/Hoekman/22',\n",
       " 'data/GF3/data/E132_N34_日本安芸/降轨/2/20170826/Hoekman/27',\n",
       " 'data/GF3/data/E132_N34_日本安芸/降轨/2/20170826/Hoekman/15',\n",
       " 'data/GF3/data/E132_N34_日本安芸/降轨/2/20170826/Hoekman/24',\n",
       " 'data/GF3/data/E132_N34_日本安芸/降轨/2/20170826/Hoekman/28',\n",
       " 'data/GF3/data/E132_N34_日本安芸/降轨/2/20170826/Hoekman/51',\n",
       " 'data/GF3/data/E132_N34_日本安芸/降轨/2/20170826/Hoekman/9',\n",
       " 'data/GF3/data/E132_N34_日本安芸/降轨/2/20170826/Hoekman/7',\n",
       " 'data/GF3/data/E132_N34_日本安芸/降轨/2/20170826/Hoekman/57',\n",
       " 'data/GF3/data/E132_N34_日本安芸/降轨/2/20170826/Hoekman/49',\n",
       " 'data/GF3/data/E132_N34_日本安芸/降轨/2/20170826/Hoekman/30',\n",
       " 'data/GF3/data/E132_N34_日本安芸/降轨/2/20170826/Hoekman/44',\n",
       " 'data/GF3/data/E132_N34_日本安芸/降轨/2/20170826/Hoekman/6',\n",
       " 'data/GF3/data/E132_N34_日本安芸/降轨/2/20170826/Hoekman/50',\n",
       " 'data/GF3/data/E132_N34_日本安芸/降轨/2/20170826/Hoekman/54',\n",
       " 'data/GF3/data/E132_N34_日本安芸/降轨/2/20170629/Hoekman/55',\n",
       " 'data/GF3/data/E132_N34_日本安芸/降轨/2/20170629/Hoekman/23',\n",
       " 'data/GF3/data/E132_N34_日本安芸/降轨/2/20170629/Hoekman/14',\n",
       " 'data/GF3/data/E132_N34_日本安芸/降轨/2/20170629/Hoekman/17',\n",
       " 'data/GF3/data/E132_N34_日本安芸/降轨/2/20170629/Hoekman/82',\n",
       " 'data/GF3/data/E132_N34_日本安芸/降轨/2/20170629/Hoekman/70',\n",
       " 'data/GF3/data/E132_N34_日本安芸/降轨/2/20170629/Hoekman/56',\n",
       " 'data/GF3/data/E132_N34_日本安芸/降轨/2/20170629/Hoekman/68',\n",
       " 'data/GF3/data/E132_N34_日本安芸/降轨/2/20170629/Hoekman/47',\n",
       " 'data/GF3/data/E132_N34_日本安芸/降轨/2/20170629/Hoekman/81',\n",
       " 'data/GF3/data/E132_N34_日本安芸/降轨/2/20170629/Hoekman/39',\n",
       " 'data/GF3/data/E132_N34_日本安芸/降轨/2/20170629/Hoekman/46',\n",
       " 'data/GF3/data/E132_N34_日本安芸/降轨/2/20170629/Hoekman/77',\n",
       " 'data/GF3/data/E132_N34_日本安芸/降轨/2/20170629/Hoekman/79',\n",
       " 'data/GF3/data/E132_N34_日本安芸/降轨/2/20170629/Hoekman/0',\n",
       " 'data/GF3/data/E132_N34_日本安芸/降轨/2/20170629/Hoekman/36',\n",
       " 'data/GF3/data/E132_N34_日本安芸/降轨/2/20170629/Hoekman/52',\n",
       " 'data/GF3/data/E132_N34_日本安芸/降轨/2/20170629/Hoekman/48',\n",
       " 'data/GF3/data/E132_N34_日本安芸/降轨/2/20170629/Hoekman/10',\n",
       " 'data/GF3/data/E132_N34_日本安芸/降轨/2/20170629/Hoekman/11',\n",
       " 'data/GF3/data/E132_N34_日本安芸/降轨/2/20170629/Hoekman/53',\n",
       " 'data/GF3/data/E132_N34_日本安芸/降轨/2/20170629/Hoekman/20',\n",
       " 'data/GF3/data/E132_N34_日本安芸/降轨/2/20170629/Hoekman/58',\n",
       " 'data/GF3/data/E132_N34_日本安芸/降轨/2/20170629/Hoekman/8',\n",
       " 'data/GF3/data/E132_N34_日本安芸/降轨/2/20170629/Hoekman/64',\n",
       " 'data/GF3/data/E132_N34_日本安芸/降轨/2/20170629/Hoekman/61',\n",
       " 'data/GF3/data/E132_N34_日本安芸/降轨/2/20170629/Hoekman/21',\n",
       " 'data/GF3/data/E132_N34_日本安芸/降轨/2/20170629/Hoekman/16',\n",
       " 'data/GF3/data/E132_N34_日本安芸/降轨/2/20170629/Hoekman/2',\n",
       " 'data/GF3/data/E132_N34_日本安芸/降轨/2/20170629/Hoekman/66',\n",
       " 'data/GF3/data/E132_N34_日本安芸/降轨/2/20170629/Hoekman/65',\n",
       " 'data/GF3/data/E132_N34_日本安芸/降轨/2/20170629/Hoekman/34',\n",
       " 'data/GF3/data/E132_N34_日本安芸/降轨/2/20170629/Hoekman/25',\n",
       " 'data/GF3/data/E132_N34_日本安芸/降轨/2/20170629/Hoekman/73',\n",
       " 'data/GF3/data/E132_N34_日本安芸/降轨/2/20170629/Hoekman/5',\n",
       " 'data/GF3/data/E132_N34_日本安芸/降轨/2/20170629/Hoekman/37',\n",
       " 'data/GF3/data/E132_N34_日本安芸/降轨/2/20170629/Hoekman/63',\n",
       " 'data/GF3/data/E132_N34_日本安芸/降轨/2/20170629/Hoekman/41',\n",
       " 'data/GF3/data/E132_N34_日本安芸/降轨/2/20170629/Hoekman/33',\n",
       " 'data/GF3/data/E132_N34_日本安芸/降轨/2/20170629/Hoekman/18',\n",
       " 'data/GF3/data/E132_N34_日本安芸/降轨/2/20170629/Hoekman/71',\n",
       " 'data/GF3/data/E132_N34_日本安芸/降轨/2/20170629/Hoekman/26',\n",
       " 'data/GF3/data/E132_N34_日本安芸/降轨/2/20170629/Hoekman/67',\n",
       " ...]"
      ]
     },
     "metadata": {},
     "execution_count": 28
    }
   ],
   "source": [
    "all_files"
   ]
  },
  {
   "cell_type": "code",
   "execution_count": 27,
   "metadata": {},
   "outputs": [
    {
     "output_type": "execute_result",
     "data": {
      "text/plain": [
       "42.61"
      ]
     },
     "metadata": {},
     "execution_count": 27
    }
   ],
   "source": [
    "len(all_files)*0.01\n"
   ]
  },
  {
   "cell_type": "code",
   "execution_count": 27,
   "metadata": {},
   "outputs": [
    {
     "output_type": "execute_result",
     "data": {
      "text/plain": [
       "5"
      ]
     },
     "metadata": {},
     "execution_count": 27
    }
   ],
   "source": [
    "c = a()\n",
    "c._a__b\n",
    "setattr(c, '_a__b', 5)\n",
    "c._a__b"
   ]
  },
  {
   "cell_type": "code",
   "execution_count": 3,
   "metadata": {},
   "outputs": [
    {
     "output_type": "execute_result",
     "data": {
      "text/plain": [
       "(tensor([[[[[1.+2.j, 3.+4.j]]]]]), tensor([[[[[2.2361, 5.0000]]]]]))"
      ]
     },
     "metadata": {},
     "execution_count": 3
    }
   ],
   "source": [
    "a = torch.tensor([1+2j, 3+4j]).view(1,1,1,1,2)\n",
    "a, a.abs()"
   ]
  },
  {
   "cell_type": "code",
   "execution_count": 13,
   "metadata": {},
   "outputs": [
    {
     "output_type": "execute_result",
     "data": {
      "text/plain": [
       "array([[[[[[[ 0.        ,  0.        ,  0.78539816,  1.57079633],\n",
       "            [ 3.14159265, -2.35619449, -1.57079633, -0.78539816]]]]]]])"
      ]
     },
     "metadata": {},
     "execution_count": 13
    }
   ],
   "source": [
    "np.angle(np.array([100,1, 1+1j, 10000j, -1, -1-1j, -1j, 3-3j]).reshape(1,1,1,1,1,2,-1))"
   ]
  },
  {
   "cell_type": "code",
   "execution_count": 18,
   "metadata": {},
   "outputs": [],
   "source": [
    "\n",
    "class ComplexUpsample(Module):\n",
    "    def __init__(self, size = None, scale_factor = None,\n",
    "                 mode: str = 'nearest', align_corners: Optional[bool] = None) -> None:\n",
    "        super().__init__()\n",
    "        self.up = nn.Upsample(size=size, scale_factor=scale_factor, mode=mode, align_corners=align_corners)\n",
    "        \n",
    "    def forward(self, input: Tensor) -> Tensor:\n",
    "        if 'complex' not in str(input.dtype):\n",
    "            raise ValueError('not support non-complex data')\n",
    "        real = self.up(input.real)\n",
    "        imag = self.up(input.imag)\n",
    "        return real + 1j*imag"
   ]
  },
  {
   "cell_type": "code",
   "execution_count": 20,
   "metadata": {},
   "outputs": [
    {
     "output_type": "execute_result",
     "data": {
      "text/plain": [
       "(tensor([[[[1.+8.j, 2.+6.j],\n",
       "           [3.+7.j, 4.+5.j]]]]),\n",
       " tensor([[[[1.0000+8.0000j, 1.2500+7.5000j, 1.7500+6.5000j, 2.0000+6.0000j],\n",
       "           [1.5000+7.7500j, 1.7500+7.2500j, 2.2500+6.2500j, 2.5000+5.7500j],\n",
       "           [2.5000+7.2500j, 2.7500+6.7500j, 3.2500+5.7500j, 3.5000+5.2500j],\n",
       "           [3.0000+7.0000j, 3.2500+6.5000j, 3.7500+5.5000j, 4.0000+5.0000j]]]]))"
      ]
     },
     "metadata": {},
     "execution_count": 20
    }
   ],
   "source": [
    "a = torch.tensor([[1,2],[3,4]])+1j*torch.tensor([[8,6],[7,5]]).view(1,1,2,2)\n",
    "b = ComplexUpsample(scale_factor=2, mode='bilinear')\n",
    "a,b(a)"
   ]
  },
  {
   "cell_type": "code",
   "execution_count": 16,
   "metadata": {},
   "outputs": [
    {
     "output_type": "execute_result",
     "data": {
      "text/plain": [
       "'torch.complex64'"
      ]
     },
     "metadata": {},
     "execution_count": 16
    }
   ],
   "source": [
    "str(a.dtype)"
   ]
  }
 ]
}